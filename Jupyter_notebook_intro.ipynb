{
 "cells": [
  {
   "cell_type": "markdown",
   "id": "bcebc659",
   "metadata": {},
   "source": [
    "# f(x) = -12x^4*sin(cos(x)) - 18x^3+5x^2 + 10x - 30\n",
    "\n",
    "Определить корни\n",
    "\n",
    "Найти интервалы, на которых функция возрастает\n",
    "\n",
    "Найти интервалы, на которых функция убывает\n",
    "\n",
    "Построить график\n",
    "\n",
    "Вычислить вершину\n",
    "\n",
    "Определить промежутки, на котором f > 0\n",
    "\n",
    "Определить промежутки, на котором f < 0"
   ]
  },
  {
   "cell_type": "markdown",
   "id": "497e9534",
   "metadata": {},
   "source": [
    "### Задаем  интервал на отрезке [start; end] с точностью precision(1, 10, 100 и тд)"
   ]
  },
  {
   "cell_type": "code",
   "execution_count": 2,
   "id": "4596370a",
   "metadata": {},
   "outputs": [],
   "source": [
    "from sympy import *\n",
    "from sympy.abc import x\n",
    "\n",
    "expr = -12*(x**4)*sin(cos(x))-18*x**3+5*x**2+10*x-30\n",
    "precision = 100\n",
    "start = -3\n",
    "end = 3\n",
    "\n",
    "xs = [x/precision for x in range(start*precision, end*precision + 1)]\n",
    "ys = [expr.subs(x, value) for value in xs]\n",
    "points = list(zip(xs, ys))"
   ]
  },
  {
   "cell_type": "markdown",
   "id": "8f204e19",
   "metadata": {},
   "source": [
    "### Находим корни"
   ]
  },
  {
   "cell_type": "code",
   "execution_count": 3,
   "id": "b5d37d02",
   "metadata": {},
   "outputs": [
    {
     "data": {
      "text/latex": [
       "$\\displaystyle \\left\\{x\\; \\middle|\\; x \\in \\mathbb{R} \\wedge - 12 x^{4} \\sin{\\left(\\cos{\\left(x \\right)} \\right)} - 18 x^{3} + 5 x^{2} + 10 x - 30 = 0 \\right\\}$"
      ],
      "text/plain": [
       "ConditionSet(x, Eq(-12*x**4*sin(cos(x)) - 18*x**3 + 5*x**2 + 10*x - 30, 0), Reals)"
      ]
     },
     "execution_count": 3,
     "metadata": {},
     "output_type": "execute_result"
    }
   ],
   "source": [
    "solveset(-12*(x**4)*sin(cos(x))-18*x**3+5*x**2+10*x-30, x, domain=Reals)"
   ]
  },
  {
   "cell_type": "markdown",
   "id": "57c7945b",
   "metadata": {},
   "source": [
    "### Находим интервалы возрастания и убывания на отрезке [start; end] с точностью precision"
   ]
  },
  {
   "cell_type": "code",
   "execution_count": 4,
   "id": "4e59aebf",
   "metadata": {},
   "outputs": [
    {
     "name": "stdout",
     "output_type": "stream",
     "text": [
      "Интервалы возрастания:\n",
      "[-0.39, 0.45] [1.7, 3.0]\n",
      "Интервалы убывания:\n",
      "[-3.0, -0.39] [0.45, 1.7]\n"
     ]
    }
   ],
   "source": [
    "points = list(zip(xs, ys))\n",
    "increasing, decreasing = [], []\n",
    "flag_increase = True\n",
    "while len(points) >= 2:\n",
    "    counter = 0\n",
    "    if flag_increase:\n",
    "        while points[counter][0] < end and points[counter + 1][1] > points[counter][1]:\n",
    "            counter += 1\n",
    "        if counter != 0:\n",
    "            increasing.append([points[0][0], points[counter][0]])\n",
    "        flag_increase = False\n",
    "    else:\n",
    "        while points[counter][0] < end and points[counter + 1][1] < points[counter][1]:\n",
    "            counter += 1\n",
    "        if counter != 0:\n",
    "            decreasing.append([points[0][0], points[counter][0]])\n",
    "        flag_increase = True\n",
    "    del points[:counter]\n",
    "\n",
    "print(\"Интервалы возрастания:\")\n",
    "print(*increasing)\n",
    "print(\"Интервалы убывания:\")\n",
    "print(*decreasing)"
   ]
  },
  {
   "cell_type": "markdown",
   "id": "bc252808",
   "metadata": {},
   "source": [
    "### Строим график на отрезке [-50, 50]"
   ]
  },
  {
   "cell_type": "code",
   "execution_count": 13,
   "id": "da72b80d",
   "metadata": {},
   "outputs": [
    {
     "data": {
      "image/png": "[encoded data removed]",
      "text/plain": [
       "<Figure size 640x480 with 1 Axes>"
      ]
     },
     "metadata": {},
     "output_type": "display_data"
    }
   ],
   "source": [
    "import matplotlib.pyplot as plt\n",
    "\n",
    "x = [-12*x**4*sin(cos(x))-18*x**3+5*x**2+10*x-30 for x in range(-50, 50)]\n",
    "y = [y for y in range(-50, 50)]\n",
    "plt.plot(y, x)\n",
    "plt.show()"
   ]
  },
  {
   "cell_type": "markdown",
   "id": "5245cdcc",
   "metadata": {},
   "source": [
    "### Находим экстремумы на заданном отрезке"
   ]
  },
  {
   "cell_type": "code",
   "execution_count": 6,
   "id": "be9ba0b0",
   "metadata": {},
   "outputs": [
    {
     "name": "stdout",
     "output_type": "stream",
     "text": [
      "Точки экстремума:\n",
      "(-0.39, -32.2934502471160) (0.45, -26.5133423096216) (1.7, -74.1062343439542)\n"
     ]
    }
   ],
   "source": [
    "points = list(zip(xs, ys))\n",
    "extrema = []\n",
    "flag_incr = True\n",
    "prior = points[0]\n",
    "for current in points[1:]:\n",
    "    if (flag_incr and prior[1] > current[1]) or (not flag_incr and prior[1] < current[1]):\n",
    "        prior = current\n",
    "        continue\n",
    "    else:\n",
    "        extrema.append(prior)\n",
    "        prior = current\n",
    "        flag_incr = not flag_incr\n",
    "\n",
    "print(\"Точки экстремума:\")\n",
    "print(*extrema)"
   ]
  },
  {
   "cell_type": "markdown",
   "id": "b89a5cd3",
   "metadata": {},
   "source": [
    "### Находим промежутки возрастания (f > 0) и убывания (f < 0) функции"
   ]
  },
  {
   "cell_type": "code",
   "execution_count": 7,
   "id": "cc551ec6",
   "metadata": {},
   "outputs": [
    {
     "name": "stdout",
     "output_type": "stream",
     "text": [
      "Интервалы, на котором f > 0:\n",
      "[-3.0, -1.35] [2.28, 2.98]\n",
      "Интервалы, на котором f < 0:\n",
      "[-1.33, 2.26]\n"
     ]
    }
   ],
   "source": [
    "points = list(zip(xs, ys))\n",
    "above, below = [], []\n",
    "flag_increase = False\n",
    "while len(points) >= 2:\n",
    "    counter = 0\n",
    "    if flag_increase:\n",
    "        while points[counter][0] < end and points[counter][1] > 0:\n",
    "            counter += 1\n",
    "        if counter != 0:\n",
    "            above.append([points[0][0], points[counter - 2][0]])\n",
    "        flag_increase = False\n",
    "    else:\n",
    "        while points[counter][0] < end and points[counter][1] < 0:\n",
    "            counter += 1\n",
    "        if counter != 0:\n",
    "            below.append([points[0][0], points[counter - 2][0]])\n",
    "        flag_increase = True\n",
    "    del points[:counter]\n",
    "\n",
    "print(\"Интервалы, на котором f > 0:\")\n",
    "print(*above)\n",
    "print(\"Интервалы, на котором f < 0:\")\n",
    "print(*below)"
   ]
  }
 ],
 "metadata": {
  "kernelspec": {
   "display_name": "Python 3 (ipykernel)",
   "language": "python",
   "name": "python3"
  },
  "language_info": {
   "codemirror_mode": {
    "name": "ipython",
    "version": 3
   },
   "file_extension": ".py",
   "mimetype": "text/x-python",
   "name": "python",
   "nbconvert_exporter": "python",
   "pygments_lexer": "ipython3",
   "version": "3.10.6"
  }
 },
 "nbformat": 4,
 "nbformat_minor": 5
}
